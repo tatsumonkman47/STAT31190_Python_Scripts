{
 "cells": [
  {
   "cell_type": "code",
   "execution_count": 11,
   "metadata": {},
   "outputs": [
    {
     "data": {
      "text/html": [
       "<style>.container { width:100% !important; }</style>"
      ],
      "text/plain": [
       "<IPython.core.display.HTML object>"
      ]
     },
     "metadata": {},
     "output_type": "display_data"
    }
   ],
   "source": [
    "import matplotlib.pyplot as plt\n",
    "import numpy as np\n",
    "import math\n",
    "\n",
    "from IPython.core.display import display, HTML\n",
    "display(HTML(\"<style>.container { width:100% !important; }</style>\"))"
   ]
  },
  {
   "cell_type": "code",
   "execution_count": 12,
   "metadata": {},
   "outputs": [
    {
     "name": "stdout",
     "output_type": "stream",
     "text": [
      "14.1 ms ± 277 µs per loop (mean ± std. dev. of 7 runs, 100 loops each)\n",
      "321 µs ± 10.2 µs per loop (mean ± std. dev. of 7 runs, 1000 loops each)\n",
      "4.96 µs ± 87.5 ns per loop (mean ± std. dev. of 7 runs, 100000 loops each)\n"
     ]
    }
   ],
   "source": [
    "# From https://towardsdatascience.com/fast-fourier-transform-937926e591cb\n",
    "# Example implementation in 1D\n",
    "\n",
    "def dft(x):\n",
    "    # discrete fourier 1D\n",
    "    \n",
    "    x = np.asarray(x, dtype=float)\n",
    "    N = x.shape[0]\n",
    "    n = np.arange(N)\n",
    "    k = n.reshape((N, 1))\n",
    "    M = np.exp(-2j * np.pi * k * n / N)\n",
    "    \n",
    "    return np.dot(M, x)\n",
    "\n",
    "\n",
    "def fft(x):\n",
    "    # fast fourier 1D (recursive)\n",
    "\n",
    "    x = np.asarray(x, dtype=float)\n",
    "    N = x.shape[0]\n",
    "    if N % 2 > 0:\n",
    "        raise ValueError(\"must be a power of 2\")\n",
    "    elif N <= 2:\n",
    "        # at the bottom do a simple DFT\n",
    "        return dft(x)\n",
    "    else:\n",
    "        X_even = fft(x[::2])\n",
    "        X_odd = fft(x[1::2])\n",
    "        # prefactor for DFT odd\n",
    "        terms = np.exp(-2j * np.pi * np.arange(N) / N)\n",
    "        return np.concatenate([X_even + terms[:int(N/2)] * X_odd,\n",
    "                               X_even + terms[int(N/2):] * X_odd])\n",
    "\n",
    "    \n",
    "def fft_v(x):\n",
    "    # fast fourier 1D (vectors)\n",
    "\n",
    "    x = np.asarray(x, dtype=float)\n",
    "    N = x.shape[0]\n",
    "    if np.log2(N) % 1 > 0:\n",
    "        raise ValueError(\"must be a power of 2\")\n",
    "        \n",
    "    N_min = min(N, 2)\n",
    "    \n",
    "    n = np.arange(N_min)\n",
    "    k = n[:, None]\n",
    "    # DFT of the lowest level\n",
    "    M = np.exp(-2j * np.pi * n * k / N_min)\n",
    "    X = np.dot(M, x.reshape((N_min, -1)))\n",
    "    while X.shape[0] < N:\n",
    "            X_even = X[:, :int(X.shape[1] / 2)]\n",
    "            X_odd = X[:, int(X.shape[1] / 2):]\n",
    "            terms = np.exp(-1j * np.pi * np.arange(X.shape[0])\n",
    "                            / X.shape[0])[:, None]\n",
    "            X = np.vstack([X_even + terms * X_odd,\n",
    "                           X_even - terms * X_odd])\n",
    "    return X.ravel()\n",
    "\n",
    "\n",
    "x = np.random.random(1024)\n",
    "np.allclose(fft(x), np.fft.fft(x))\n",
    "np.allclose(dft(x), np.fft.fft(x))\n",
    "np.allclose(fft_v(x), np.fft.fft(x))\n",
    "\n",
    "%timeit fft(x)\n",
    "%timeit fft_v(x)\n",
    "%timeit np.fft.fft(x)"
   ]
  },
  {
   "cell_type": "code",
   "execution_count": 13,
   "metadata": {},
   "outputs": [
    {
     "name": "stdout",
     "output_type": "stream",
     "text": [
      "(1024, 1)\n",
      "(1024,)\n",
      "(1024, 1024)\n"
     ]
    }
   ],
   "source": [
    "N = len(x)\n",
    "n = np.arange(N)\n",
    "k = n.reshape((N,1))\n",
    "M = np.exp(-2j * np.pi * k * n / N)\n",
    "print(k.shape)\n",
    "print(n.shape)\n",
    "print(M.shape)\n",
    "dft_out = np.dot(M, x)\n",
    "print(dft_out.shape)"
   ]
  },
  {
   "cell_type": "code",
   "execution_count": null,
   "metadata": {},
   "outputs": [],
   "source": []
  }
 ],
 "metadata": {
  "kernelspec": {
   "display_name": "Python 3",
   "language": "python",
   "name": "python3"
  },
  "language_info": {
   "codemirror_mode": {
    "name": "ipython",
    "version": 3
   },
   "file_extension": ".py",
   "mimetype": "text/x-python",
   "name": "python",
   "nbconvert_exporter": "python",
   "pygments_lexer": "ipython3",
   "version": "3.7.4"
  }
 },
 "nbformat": 4,
 "nbformat_minor": 2
}
